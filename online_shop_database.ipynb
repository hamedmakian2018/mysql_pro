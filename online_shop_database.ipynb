{
 "cells": [
  {
   "cell_type": "markdown",
   "id": "ee8c19d4",
   "metadata": {},
   "source": [
    "# Using mysql library to enable python to access MySQL databases"
   ]
  },
  {
   "cell_type": "code",
   "execution_count": 1,
   "id": "863cd235",
   "metadata": {},
   "outputs": [
    {
     "name": "stdout",
     "output_type": "stream",
     "text": [
      "Requirement already satisfied: mysql-connector-python in ./onlineshop/lib/python3.12/site-packages (9.4.0)\n"
     ]
    }
   ],
   "source": [
    "# Install library \n",
    "!pip install mysql-connector-python"
   ]
  },
  {
   "cell_type": "code",
   "execution_count": 17,
   "id": "902ef732",
   "metadata": {},
   "outputs": [
    {
     "name": "stdout",
     "output_type": "stream",
     "text": [
      "Connected to MySQL server\n"
     ]
    }
   ],
   "source": [
    "from mysql.connector import connect\n",
    "\n",
    "# Connect to MySQL server\n",
    "db = connect(\n",
    "    host='localhost',\n",
    "    user='hamed',\n",
    "    password='NewPass123!'\n",
    ")\n",
    "\n",
    "if db.is_connected():\n",
    "    print(\"Connected to MySQL server\")"
   ]
  },
  {
   "cell_type": "code",
   "execution_count": 18,
   "id": "7d4ab69a",
   "metadata": {},
   "outputs": [],
   "source": [
    "# Create a cursor object\n",
    "cursor = db.cursor()"
   ]
  },
  {
   "cell_type": "code",
   "execution_count": 19,
   "id": "6ae717e8",
   "metadata": {},
   "outputs": [
    {
     "name": "stdout",
     "output_type": "stream",
     "text": [
      "information_schema\n",
      "mysql\n",
      "performance_schema\n",
      "sys\n"
     ]
    }
   ],
   "source": [
    "# Send a query for showing databases\n",
    "cursor.execute(\"SHOW DATABASES\")\n",
    "\n",
    "# Fetch and print all results\n",
    "databases = cursor.fetchall()\n",
    "for database in databases:\n",
    "    print(database[0])"
   ]
  },
  {
   "cell_type": "markdown",
   "id": "30bf4866",
   "metadata": {},
   "source": [
    "# Create a database"
   ]
  },
  {
   "cell_type": "code",
   "execution_count": 20,
   "id": "7db065fa",
   "metadata": {},
   "outputs": [
    {
     "name": "stdout",
     "output_type": "stream",
     "text": [
      "A database named online_shop created successfully\n",
      "\n",
      " \n",
      "######################################################################\n",
      "\n",
      " \n",
      "information_schema\n",
      "mysql\n",
      "online_shop\n",
      "performance_schema\n",
      "sys\n"
     ]
    }
   ],
   "source": [
    "# Send a query for creating database\n",
    "db_name = 'online_shop'\n",
    "qu_cr_db =f\"\"\"\n",
    "CREATE DATABASE IF NOT EXISTS {db_name}\n",
    "\"\"\"\n",
    "cursor.execute(qu_cr_db)\n",
    "print (f'A database named {db_name} created successfully')\n",
    "print ('\\n ')\n",
    "print ('#'*70)\n",
    "print ('\\n ')\n",
    "\n",
    "\n",
    "# Send a query for showing databases\n",
    "qu_sh_db = \"\"\"SHOW DATABASES\"\"\"\n",
    "cursor.execute(qu_sh_db)\n",
    "databases = cursor.fetchall()\n",
    "for database in databases:\n",
    "    print(database[0])"
   ]
  },
  {
   "cell_type": "markdown",
   "id": "0c61d8c1",
   "metadata": {},
   "source": [
    "# Drop a database"
   ]
  },
  {
   "cell_type": "code",
   "execution_count": 7,
   "id": "5b814aef",
   "metadata": {},
   "outputs": [
    {
     "name": "stdout",
     "output_type": "stream",
     "text": [
      "A database named online_shop dropped successfully\n",
      "\n",
      " \n",
      "######################################################################\n",
      "\n",
      " \n",
      "Database names:\n",
      "\n",
      "information_schema\n",
      "mysql\n",
      "performance_schema\n",
      "sys\n"
     ]
    }
   ],
   "source": [
    "# Send a query for dropping databases\n",
    "db_name = 'online_shop'\n",
    "qu_dr_db =f\"\"\"\n",
    "DROP DATABASE {db_name}\n",
    "\"\"\"\n",
    "cursor.execute(qu_dr_db)\n",
    "db.commit()\n",
    "print (f'A database named {db_name} dropped successfully')\n",
    "print ('\\n ')\n",
    "print ('#'*70)\n",
    "print ('\\n ')\n",
    "\n",
    "# Send a query for showing databases\n",
    "qu_sh_db = \"\"\"SHOW DATABASES\"\"\"\n",
    "cursor.execute(qu_sh_db)\n",
    "databases = cursor.fetchall()\n",
    "print('Database names:\\n')\n",
    "for database in databases:\n",
    "    print(database[0])\n"
   ]
  },
  {
   "cell_type": "code",
   "execution_count": 21,
   "id": "f898d3e1",
   "metadata": {},
   "outputs": [
    {
     "name": "stdout",
     "output_type": "stream",
     "text": [
      "A database named online_shop created successfully\n",
      "\n",
      " \n",
      "######################################################################\n",
      "\n",
      " \n",
      "information_schema\n",
      "mysql\n",
      "online_shop\n",
      "performance_schema\n",
      "sys\n"
     ]
    }
   ],
   "source": [
    "# Send a query for creating database\n",
    "db_name = 'online_shop'\n",
    "qu_cr_db =f\"\"\"\n",
    "CREATE DATABASE IF NOT EXISTS {db_name}\n",
    "\"\"\"\n",
    "cursor.execute(qu_cr_db)\n",
    "print (f'A database named {db_name} created successfully')\n",
    "print ('\\n ')\n",
    "print ('#'*70)\n",
    "print ('\\n ')\n",
    "\n",
    "\n",
    "# Send a query for showing databases\n",
    "qu_sh_db = \"\"\"SHOW DATABASES\"\"\"\n",
    "cursor.execute(qu_sh_db)\n",
    "databases = cursor.fetchall()\n",
    "for database in databases:\n",
    "    print(database[0])"
   ]
  },
  {
   "cell_type": "markdown",
   "id": "3dcfd8c4",
   "metadata": {},
   "source": [
    "# Use online_shop database"
   ]
  },
  {
   "cell_type": "code",
   "execution_count": 22,
   "id": "191db4ae",
   "metadata": {},
   "outputs": [
    {
     "name": "stdout",
     "output_type": "stream",
     "text": [
      "Currently using database: online_shop\n"
     ]
    }
   ],
   "source": [
    "db_name = 'online_shop'\n",
    "qu_use =f\"\"\"\n",
    "USE {db_name}\n",
    "\"\"\"\n",
    "cursor.execute(qu_use)\n",
    "\n",
    "\n",
    "# Verify which database is selected\n",
    "qu_sel = \"\"\"\n",
    "SELECT DATABASE()\n",
    "\"\"\"\n",
    "cursor.execute(qu_sel)\n",
    "current_db = cursor.fetchone()[0]\n",
    "print(f\"Currently using database: {current_db}\")"
   ]
  },
  {
   "cell_type": "markdown",
   "id": "3633a97a",
   "metadata": {},
   "source": [
    "# if we want to start our file from first we can use below command"
   ]
  },
  {
   "cell_type": "code",
   "execution_count": 23,
   "id": "26d9613c",
   "metadata": {},
   "outputs": [
    {
     "name": "stdout",
     "output_type": "stream",
     "text": [
      "Connected to MYSQL server\n",
      "Currently using database: online_shop\n"
     ]
    }
   ],
   "source": [
    "from mysql.connector import connect\n",
    "db_name = 'online_shop'\n",
    "# Connect to MySQL server\n",
    "db = connect(\n",
    "    host=\"localhost\",\n",
    "    user=\"hamed\",\n",
    "    password=\"NewPass123!\",\n",
    "    database=db_name   # <--- select DB at connection time\n",
    ")\n",
    "\n",
    "if db.is_connected():\n",
    "    print(\"Connected to MYSQL server\")\n",
    "\n",
    "# Create a cursor object\n",
    "cursor = db.cursor()\n",
    "\n",
    "# Verify which database is selected\n",
    "qu_sel = \"\"\"\n",
    "SELECT DATABASE()\n",
    "\"\"\"\n",
    "cursor.execute(qu_sel)\n",
    "current_db = cursor.fetchone()[0]\n",
    "print(f\"Currently using database: {current_db}\")"
   ]
  },
  {
   "cell_type": "markdown",
   "id": "83d1acfb",
   "metadata": {},
   "source": [
    "# Show tables"
   ]
  },
  {
   "cell_type": "code",
   "execution_count": 99,
   "id": "05122dba",
   "metadata": {},
   "outputs": [
    {
     "name": "stdout",
     "output_type": "stream",
     "text": [
      "Tables in online_shop:\n",
      "\n"
     ]
    }
   ],
   "source": [
    "db_name = 'online_shop'\n",
    "qu_sh_tab = \"\"\"\n",
    "SHOW TABLES\n",
    "\"\"\"\n",
    "cursor.execute(qu_sh_tab)\n",
    "tables = cursor.fetchall()\n",
    "print(f\"Tables in {db_name}:\\n\")\n",
    "for table in tables:\n",
    "    print (table[0])"
   ]
  },
  {
   "cell_type": "markdown",
   "id": "d4fc916a",
   "metadata": {},
   "source": [
    "# Create a table"
   ]
  },
  {
   "cell_type": "code",
   "execution_count": 100,
   "id": "87d2eba5",
   "metadata": {},
   "outputs": [
    {
     "name": "stdout",
     "output_type": "stream",
     "text": [
      "Table named users1, created successfully in online_shop \n"
     ]
    }
   ],
   "source": [
    "# Create users table\n",
    "db_name = 'online_shop'\n",
    "table_name = 'users1'\n",
    "columns = \"\"\"\n",
    "            (id int primary key auto_increment,\n",
    "            username varchar(50) unique,\n",
    "            email varchar(100),\n",
    "            registration_data date);\n",
    "\"\"\"\n",
    "qu_tab = f\"\"\"\n",
    "            CREATE TABLE IF NOT EXISTS {table_name} {columns}\n",
    "\"\"\"\n",
    "cursor.execute(qu_tab)\n",
    "print(f\"Table named {table_name}, created successfully in {db_name} \")\n"
   ]
  },
  {
   "cell_type": "markdown",
   "id": "ebb537d0",
   "metadata": {},
   "source": [
    "# Show tables"
   ]
  },
  {
   "cell_type": "code",
   "execution_count": 101,
   "id": "89a45f02",
   "metadata": {},
   "outputs": [
    {
     "name": "stdout",
     "output_type": "stream",
     "text": [
      "Tables in online_shop:\n",
      "\n",
      "users1\n"
     ]
    }
   ],
   "source": [
    "db_name = 'online_shop'\n",
    "qu_sh_tab = \"\"\"\n",
    "SHOW TABLES\n",
    "\"\"\"\n",
    "cursor.execute(qu_sh_tab)\n",
    "tables = cursor.fetchall()\n",
    "print(f\"Tables in {db_name}:\\n\")\n",
    "for table in tables:\n",
    "    print (table[0])"
   ]
  },
  {
   "cell_type": "markdown",
   "id": "e4d6dd54",
   "metadata": {},
   "source": [
    "# Mistake table name should be user\n",
    "# Change it from user1 into user"
   ]
  },
  {
   "cell_type": "code",
   "execution_count": 102,
   "id": "192ac3d9",
   "metadata": {},
   "outputs": [
    {
     "name": "stdout",
     "output_type": "stream",
     "text": [
      "Table renamed from users1 to users\n",
      "\n",
      "Tables in online_shop:\n",
      "\n",
      "users\n"
     ]
    }
   ],
   "source": [
    "# Old and new table names\n",
    "old_name = 'users1'\n",
    "new_name = 'users'\n",
    "\n",
    "# SQL query to rename the table\n",
    "query_rename_table = f\"RENAME TABLE {old_name} TO {new_name};\"\n",
    "\n",
    "# Execute the query\n",
    "cursor.execute(query_rename_table)\n",
    "db.commit()\n",
    "\n",
    "print(f\"Table renamed from {old_name} to {new_name}\\n\")\n",
    "\n",
    "db_name = 'online_shop'\n",
    "qu_sh_tab = \"\"\"\n",
    "SHOW TABLES\n",
    "\"\"\"\n",
    "cursor.execute(qu_sh_tab)\n",
    "tables = cursor.fetchall()\n",
    "print(f\"Tables in {db_name}:\\n\")\n",
    "for table in tables:\n",
    "    print (table[0])\n"
   ]
  },
  {
   "cell_type": "markdown",
   "id": "5764ddd0",
   "metadata": {},
   "source": [
    "# Describe the table structure = show its columns"
   ]
  },
  {
   "cell_type": "code",
   "execution_count": 103,
   "id": "aa48fffe",
   "metadata": {},
   "outputs": [
    {
     "name": "stdout",
     "output_type": "stream",
     "text": [
      "\n",
      "Structure of users table:\n",
      "('id', 'int', 'NO', 'PRI', None, 'auto_increment')\n",
      "('username', 'varchar(50)', 'YES', 'UNI', None, '')\n",
      "('email', 'varchar(100)', 'YES', '', None, '')\n",
      "('registration_data', 'date', 'YES', '', None, '')\n"
     ]
    }
   ],
   "source": [
    "db_name = 'online_shop'\n",
    "table_name = 'users'\n",
    "qu_col_tab = f\"\"\"\n",
    "                DESCRIBE {table_name}\n",
    "\"\"\"\n",
    "cursor.execute(qu_col_tab)\n",
    "columns = cursor.fetchall()\n",
    "print(f\"\\nStructure of {table_name} table:\")\n",
    "for column in columns:\n",
    "    print(column)"
   ]
  },
  {
   "cell_type": "markdown",
   "id": "fb4769fe",
   "metadata": {},
   "source": [
    "# Mistake column's name should be registration_date\n",
    "# Change it from registration_data into registration_date"
   ]
  },
  {
   "cell_type": "code",
   "execution_count": 104,
   "id": "29d98a4a",
   "metadata": {},
   "outputs": [
    {
     "name": "stdout",
     "output_type": "stream",
     "text": [
      "Column renamed from registration_data to registration_date in users table \n",
      "\n",
      "\n",
      "Structure of users table:\n",
      "('id', 'int', 'NO', 'PRI', None, 'auto_increment')\n",
      "('username', 'varchar(50)', 'YES', 'UNI', None, '')\n",
      "('email', 'varchar(100)', 'YES', '', None, '')\n",
      "('registration_date', 'date', 'YES', '', None, '')\n"
     ]
    }
   ],
   "source": [
    "table_name = 'users'\n",
    "# Old and new tcolumn names\n",
    "old_name = 'registration_data'\n",
    "new_name = 'registration_date'\n",
    "\n",
    "# SQL query to rename the table\n",
    "query_rename_column = f\"ALTER TABLE {table_name} RENAME COLUMN {old_name} TO {new_name};\"\n",
    "\n",
    "# Execute the query\n",
    "cursor.execute(query_rename_column )\n",
    "db.commit()\n",
    "\n",
    "print(f\"Column renamed from {old_name} to {new_name} in {table_name} table \\n\")\n",
    "\n",
    "db_name = 'online_shop'\n",
    "table_name = 'users'\n",
    "qu_col_tab = f\"\"\"\n",
    "                DESCRIBE {table_name}\n",
    "\"\"\"\n",
    "cursor.execute(qu_col_tab)\n",
    "columns = cursor.fetchall()\n",
    "print(f\"\\nStructure of {table_name} table:\")\n",
    "for column in columns:\n",
    "    print(column)"
   ]
  },
  {
   "cell_type": "markdown",
   "id": "10d221ec",
   "metadata": {},
   "source": [
    "# Define Abbreviation key for cursor.execute"
   ]
  },
  {
   "cell_type": "code",
   "execution_count": 25,
   "id": "4151d935",
   "metadata": {},
   "outputs": [],
   "source": [
    "cux = cursor.execute"
   ]
  },
  {
   "cell_type": "markdown",
   "id": "0a50d594",
   "metadata": {},
   "source": [
    "# Show all rows in the table"
   ]
  },
  {
   "cell_type": "code",
   "execution_count": 106,
   "id": "8a88350d",
   "metadata": {},
   "outputs": [
    {
     "name": "stdout",
     "output_type": "stream",
     "text": [
      "\n",
      "Content of users table:\n",
      "\n"
     ]
    }
   ],
   "source": [
    "table_name = 'users'\n",
    "qu_row_tab = f\"\"\"\n",
    "                SELECT * FROM {table_name}\n",
    "\"\"\"\n",
    "\n",
    "cux(qu_row_tab)\n",
    "rows = cursor.fetchall()\n",
    "print (f\"\\nContent of {table_name} table:\\n\")\n",
    "for row in rows:\n",
    "    print(row)"
   ]
  },
  {
   "cell_type": "markdown",
   "id": "69b9b5ce",
   "metadata": {},
   "source": [
    "# Insert sample data to test"
   ]
  },
  {
   "cell_type": "code",
   "execution_count": 107,
   "id": "b28c42f6",
   "metadata": {},
   "outputs": [
    {
     "name": "stdout",
     "output_type": "stream",
     "text": [
      "3 rows inserted into users table\n"
     ]
    }
   ],
   "source": [
    "# Table name\n",
    "table_name = 'users'\n",
    "\n",
    "# Data insert to columns\n",
    "data_columns = \"\"\"\n",
    "                    (username, email,registration_date)\n",
    "\"\"\"\n",
    "# Data to insert (list of tuples)\n",
    "value_users =[\n",
    "    ('ali123', 'ali@example.com', '2023-01-10'),\n",
    "    ('sara_k', 'sara@example.com', '2023-03-15'),\n",
    "    (\"hamed123\", \"hamed@example.com\",\"2025-08-25\" )\n",
    "    ]\n",
    "\n",
    "# SQL query with placeholders (%s)\n",
    "query_users= f\"\"\"\n",
    "INSERT INTO {table_name} {data_columns}\n",
    "VALUES (%s,%s,%s)\n",
    "\"\"\"\n",
    "\n",
    "# Execute many rows at once\n",
    "cursor.executemany(query_users, value_users)\n",
    "\n",
    "# Commit changes\n",
    "db.commit()\n",
    "\n",
    "print(cursor.rowcount, f\"rows inserted into {table_name} table\")\n"
   ]
  },
  {
   "cell_type": "markdown",
   "id": "220251ad",
   "metadata": {},
   "source": [
    "# Define Abbreviation key for cursor.executemany"
   ]
  },
  {
   "cell_type": "code",
   "execution_count": 24,
   "id": "e03e46c3",
   "metadata": {},
   "outputs": [],
   "source": [
    "cuxm = cursor.executemany"
   ]
  },
  {
   "cell_type": "code",
   "execution_count": 109,
   "id": "d6572b33",
   "metadata": {},
   "outputs": [
    {
     "name": "stdout",
     "output_type": "stream",
     "text": [
      "\n",
      "Content of users table:\n",
      "\n",
      "(1, 'ali123', 'ali@example.com', datetime.date(2023, 1, 10))\n",
      "(2, 'sara_k', 'sara@example.com', datetime.date(2023, 3, 15))\n",
      "(3, 'hamed123', 'hamed@example.com', datetime.date(2025, 8, 25))\n"
     ]
    }
   ],
   "source": [
    "table_name = 'users'\n",
    "qu_row_tab = f\"\"\"\n",
    "                SELECT * FROM {table_name}\n",
    "\"\"\"\n",
    "\n",
    "cux(qu_row_tab)\n",
    "rows = cursor.fetchall()\n",
    "print (f\"\\nContent of {table_name} table:\\n\")\n",
    "for row in rows:\n",
    "    print(row)"
   ]
  },
  {
   "cell_type": "markdown",
   "id": "c6a3aa23",
   "metadata": {},
   "source": [
    "# Change values in some columns"
   ]
  },
  {
   "cell_type": "code",
   "execution_count": 110,
   "id": "190c8b1b",
   "metadata": {},
   "outputs": [
    {
     "name": "stdout",
     "output_type": "stream",
     "text": [
      "1 row(s) updated.\n",
      "\n",
      "\n",
      "Content of users table:\n",
      "\n",
      "(1, 'ali123', 'ali@example.com', datetime.date(2023, 1, 10))\n",
      "(2, 'sara_k', 'sara@example.com', datetime.date(2023, 3, 15))\n",
      "(3, 'hamed123', 'hamed@yyy.com', datetime.date(2024, 8, 25))\n"
     ]
    }
   ],
   "source": [
    "# Table name\n",
    "table_name = 'users'\n",
    "\n",
    "# Update query\n",
    "query_update = f\"\"\"\n",
    "UPDATE {table_name}\n",
    "SET email = %s, registration_date = %s\n",
    "WHERE username = %s;\n",
    "\"\"\"\n",
    "\n",
    "# Data to update\n",
    "data_update = ('hamed@yyy.com', '2024-08-25', 'hamed123')\n",
    "\n",
    "# Execute the update\n",
    "cux(query_update, data_update)\n",
    "db.commit()\n",
    "\n",
    "print(cursor.rowcount, \"row(s) updated.\\n\")\n",
    "\n",
    "qu_row_tab = f\"\"\"\n",
    "                SELECT * FROM {table_name}\n",
    "\"\"\"\n",
    "\n",
    "cux(qu_row_tab)\n",
    "rows = cursor.fetchall()\n",
    "print (f\"\\nContent of {table_name} table:\\n\")\n",
    "for row in rows:\n",
    "    print(row)\n"
   ]
  },
  {
   "cell_type": "markdown",
   "id": "1717c787",
   "metadata": {},
   "source": [
    "# Delete a row"
   ]
  },
  {
   "cell_type": "code",
   "execution_count": 111,
   "id": "48e72f43",
   "metadata": {},
   "outputs": [
    {
     "name": "stdout",
     "output_type": "stream",
     "text": [
      "Row deleted successfully!\n",
      "\n",
      "Content of users table:\n",
      "\n",
      "(1, 'ali123', 'ali@example.com', datetime.date(2023, 1, 10))\n",
      "(2, 'sara_k', 'sara@example.com', datetime.date(2023, 3, 15))\n"
     ]
    }
   ],
   "source": [
    "# Delete the row where username is 'hamed123'\n",
    "\n",
    "# Table name\n",
    "table_name = 'users'\n",
    "\n",
    "# Update query\n",
    "query_delete_row = f\"DELETE FROM {table_name} WHERE username = %s\"\n",
    "\n",
    "username = ('hamed123',) \n",
    "cux( query_delete_row, username)\n",
    "\n",
    "\n",
    "db.commit()  # Commit the changes\n",
    "print(\"Row deleted successfully!\")\n",
    "\n",
    "cux(qu_row_tab)\n",
    "rows = cursor.fetchall()\n",
    "print (f\"\\nContent of {table_name} table:\\n\")\n",
    "for row in rows:\n",
    "    print(row)\n"
   ]
  },
  {
   "cell_type": "markdown",
   "id": "699bd5d6",
   "metadata": {},
   "source": [
    "# Drop table"
   ]
  },
  {
   "cell_type": "code",
   "execution_count": 29,
   "id": "44b7de9c",
   "metadata": {},
   "outputs": [
    {
     "name": "stdout",
     "output_type": "stream",
     "text": [
      "A table named users dropped successfully\n",
      "\n",
      " \n",
      "######################################################################\n",
      "\n",
      " \n",
      "Tables in online_shop:\n",
      "\n"
     ]
    }
   ],
   "source": [
    "# Send a query for dropping a table\n",
    "table_name = 'users'\n",
    "qu_dr_tab =f\"\"\"\n",
    "DROP TABLE {table_name}\n",
    "\"\"\"\n",
    "cux(qu_dr_tab)\n",
    "db.commit()\n",
    "print (f'A table named {table_name} dropped successfully')\n",
    "print ('\\n ')\n",
    "print ('#'*70)\n",
    "print ('\\n ')\n",
    "\n",
    "# Send a query for showing dtables\n",
    "db_name = 'online_shop'\n",
    "qu_sh_tab = \"\"\"\n",
    "SHOW TABLES\n",
    "\"\"\"\n",
    "cursor.execute(qu_sh_tab)\n",
    "tables = cursor.fetchall()\n",
    "print(f\"Tables in {db_name}:\\n\")\n",
    "for table in tables:\n",
    "    print (table[0])\n"
   ]
  },
  {
   "cell_type": "markdown",
   "id": "92977448",
   "metadata": {},
   "source": [
    "# create again users table"
   ]
  },
  {
   "cell_type": "code",
   "execution_count": 30,
   "id": "542d3c6e",
   "metadata": {},
   "outputs": [
    {
     "name": "stdout",
     "output_type": "stream",
     "text": [
      "Table named users, created successfully in online_shop \n",
      "\n",
      "Structure of users table:\n",
      "('id', 'int', 'NO', 'PRI', None, 'auto_increment')\n",
      "('username', 'varchar(50)', 'YES', 'UNI', None, '')\n",
      "('email', 'varchar(100)', 'YES', '', None, '')\n",
      "('registration_date', 'date', 'YES', '', None, '')\n"
     ]
    }
   ],
   "source": [
    "# Create users table\n",
    "db_name = 'online_shop'\n",
    "table_name = 'users'\n",
    "columns = \"\"\"\n",
    "            (id int primary key auto_increment,\n",
    "            username varchar(50) unique,\n",
    "            email varchar(100),\n",
    "            registration_date date);\n",
    "\"\"\"\n",
    "qu_tab = f\"\"\"\n",
    "            CREATE TABLE IF NOT EXISTS {table_name} {columns}\n",
    "\"\"\"\n",
    "cux(qu_tab)\n",
    "print(f\"Table named {table_name}, created successfully in {db_name} \")\n",
    "\n",
    "\n",
    "db_name = 'online_shop'\n",
    "table_name = 'users'\n",
    "qu_col_tab = f\"\"\"\n",
    "                DESCRIBE {table_name}\n",
    "\"\"\"\n",
    "cux(qu_col_tab)\n",
    "columns = cursor.fetchall()\n",
    "print(f\"\\nStructure of {table_name} table:\")\n",
    "for column in columns:\n",
    "    print(column)"
   ]
  },
  {
   "cell_type": "code",
   "execution_count": 31,
   "id": "e5fac5ea",
   "metadata": {},
   "outputs": [
    {
     "name": "stdout",
     "output_type": "stream",
     "text": [
      "2 rows inserted into users table\n",
      "\n",
      "Content of users table:\n",
      "\n",
      "(1, 'ali123', 'ali@example.com', datetime.date(2023, 1, 10))\n",
      "(2, 'sara_k', 'sara@example.com', datetime.date(2023, 3, 15))\n"
     ]
    }
   ],
   "source": [
    "# Table name\n",
    "table_name = 'users'\n",
    "\n",
    "# Data insert to columns\n",
    "data_columns = \"\"\"\n",
    "                    (username, email,registration_date)\n",
    "\"\"\"\n",
    "# Data to insert (list of tuples)\n",
    "value_users =[\n",
    "    ('ali123', 'ali@example.com', '2023-01-10'),\n",
    "    ('sara_k', 'sara@example.com', '2023-03-15'),\n",
    "    ]\n",
    "\n",
    "# SQL query with placeholders (%s)\n",
    "query_users= f\"\"\"\n",
    "INSERT INTO {table_name} {data_columns}\n",
    "VALUES (%s,%s,%s)\n",
    "\"\"\"\n",
    "\n",
    "# Execute many rows at once\n",
    "cuxm(query_users, value_users)\n",
    "\n",
    "# Commit changes\n",
    "db.commit()\n",
    "\n",
    "print(cursor.rowcount, f\"rows inserted into {table_name} table\")\n",
    "qu_row_tab = f\"\"\"\n",
    "                SELECT * FROM {table_name}\n",
    "\"\"\"\n",
    "cux(qu_row_tab)\n",
    "rows = cursor.fetchall()\n",
    "print (f\"\\nContent of {table_name} table:\\n\")\n",
    "for row in rows:\n",
    "    print(row)\n"
   ]
  },
  {
   "cell_type": "markdown",
   "id": "ecc6329f",
   "metadata": {},
   "source": [
    "# Create category table"
   ]
  },
  {
   "cell_type": "code",
   "execution_count": 32,
   "id": "666355e0",
   "metadata": {},
   "outputs": [
    {
     "name": "stdout",
     "output_type": "stream",
     "text": [
      "Table named categories, created successfully in online_shop \n",
      "\n",
      "Tables in online_shop:\n",
      "\n",
      "categories\n",
      "users\n",
      "\n",
      "Structure of categories table:\n",
      "('id', 'int', 'NO', 'PRI', None, 'auto_increment')\n",
      "('category_name', 'varchar(50)', 'YES', '', None, '')\n"
     ]
    }
   ],
   "source": [
    "# Create users table\n",
    "db_name = 'online_shop'\n",
    "table_name = 'categories'\n",
    "columns = \"\"\"\n",
    "            (id int primary key auto_increment,\n",
    "            category_name varchar(50));\n",
    "\"\"\"\n",
    "qu_tab = f\"\"\"\n",
    "            CREATE TABLE IF NOT EXISTS {table_name} {columns}\n",
    "\"\"\"\n",
    "cux(qu_tab)\n",
    "print(f\"Table named {table_name}, created successfully in {db_name} \\n\")\n",
    "\n",
    "\n",
    "# Send a query for showing dtables\n",
    "db_name = 'online_shop'\n",
    "qu_sh_tab = \"\"\"\n",
    "SHOW TABLES\n",
    "\"\"\"\n",
    "cux(qu_sh_tab)\n",
    "tables = cursor.fetchall()\n",
    "print(f\"Tables in {db_name}:\\n\")\n",
    "for table in tables:\n",
    "    print (table[0])\n",
    "\n",
    "\n",
    "\n",
    "qu_col_tab = f\"\"\"\n",
    "                DESCRIBE {table_name}\n",
    "\"\"\"\n",
    "cux(qu_col_tab)\n",
    "columns = cursor.fetchall()\n",
    "print(f\"\\nStructure of {table_name} table:\")\n",
    "for column in columns:\n",
    "    print(column)"
   ]
  },
  {
   "cell_type": "markdown",
   "id": "8c2078a8",
   "metadata": {},
   "source": [
    "# Create products table"
   ]
  },
  {
   "cell_type": "code",
   "execution_count": 33,
   "id": "0cb7b236",
   "metadata": {},
   "outputs": [
    {
     "name": "stdout",
     "output_type": "stream",
     "text": [
      "Table named products, created successfully in online_shop \n",
      "\n",
      "Tables in online_shop:\n",
      "\n",
      "categories\n",
      "products\n",
      "users\n",
      "\n",
      "Structure of products table:\n",
      "('id', 'int', 'NO', 'PRI', None, 'auto_increment')\n",
      "('product_name', 'varchar(50)', 'YES', '', None, '')\n",
      "('price', 'decimal(10,2)', 'YES', '', None, '')\n",
      "('stock', 'int', 'YES', '', None, '')\n",
      "('category_id', 'int', 'YES', 'MUL', None, '')\n"
     ]
    }
   ],
   "source": [
    "# Create products table\n",
    "\n",
    "db_name = 'online_shop'\n",
    "table_name = 'products'\n",
    "\n",
    "columns = \"\"\"\n",
    "            (id int primary key auto_increment,\n",
    "            product_name varchar(50),\n",
    "            price decimal(10,2),\n",
    "            stock int,\n",
    "            category_id int,\n",
    "            foreign key (category_id) references categories(id));\n",
    "\"\"\"\n",
    "qu_tab = f\"\"\"\n",
    "            CREATE TABLE IF NOT EXISTS {table_name} {columns}\n",
    "\"\"\"\n",
    "cux(qu_tab)\n",
    "print(f\"Table named {table_name}, created successfully in {db_name} \\n\")\n",
    "\n",
    "\n",
    "# Send a query for showing dtables\n",
    "qu_sh_tab = \"\"\"\n",
    "SHOW TABLES\n",
    "\"\"\"\n",
    "cux(qu_sh_tab)\n",
    "tables = cursor.fetchall()\n",
    "print(f\"Tables in {db_name}:\\n\")\n",
    "for table in tables:\n",
    "    print (table[0])\n",
    "\n",
    "\n",
    "\n",
    "qu_col_tab = f\"\"\"\n",
    "                DESCRIBE {table_name}\n",
    "\"\"\"\n",
    "cux(qu_col_tab)\n",
    "columns = cursor.fetchall()\n",
    "print(f\"\\nStructure of {table_name} table:\")\n",
    "for column in columns:\n",
    "    print(column)\n"
   ]
  },
  {
   "cell_type": "markdown",
   "id": "f9307a64",
   "metadata": {},
   "source": [
    "# Create orders table"
   ]
  },
  {
   "cell_type": "code",
   "execution_count": 34,
   "id": "f49b2283",
   "metadata": {},
   "outputs": [
    {
     "name": "stdout",
     "output_type": "stream",
     "text": [
      "Table named orders, created successfully in online_shop \n",
      "\n",
      "Tables in online_shop:\n",
      "\n",
      "categories\n",
      "orders\n",
      "products\n",
      "users\n",
      "\n",
      "Structure of orders table:\n",
      "('id', 'int', 'NO', 'PRI', None, 'auto_increment')\n",
      "('user_id', 'int', 'YES', 'MUL', None, '')\n",
      "('order_date', 'datetime', 'YES', '', None, '')\n",
      "('status', \"enum('pending','shipped','delivered','cancelled')\", 'YES', '', None, '')\n"
     ]
    }
   ],
   "source": [
    "# Create orders table\n",
    "\n",
    "db_name = 'online_shop'\n",
    "table_name = 'orders'\n",
    "columns = \"\"\"\n",
    "            (id int primary key auto_increment,\n",
    "             user_id int,\n",
    "             order_date datetime,\n",
    "             status enum('pending','shipped','delivered','cancelled'),\n",
    "             foreign key (user_id) references users(id));\n",
    "            \n",
    "\"\"\"\n",
    "qu_tab = f\"\"\"\n",
    "            CREATE TABLE IF NOT EXISTS {table_name} {columns}\n",
    "\"\"\"\n",
    "cux(qu_tab)\n",
    "print(f\"Table named {table_name}, created successfully in {db_name} \\n\")\n",
    "\n",
    "\n",
    "# Send a query for showing dtables\n",
    "qu_sh_tab = \"\"\"\n",
    "SHOW TABLES\n",
    "\"\"\"\n",
    "cux(qu_sh_tab)\n",
    "tables = cursor.fetchall()\n",
    "print(f\"Tables in {db_name}:\\n\")\n",
    "for table in tables:\n",
    "    print (table[0])\n",
    "\n",
    "\n",
    "\n",
    "qu_col_tab = f\"\"\"\n",
    "                DESCRIBE {table_name}\n",
    "\"\"\"\n",
    "cux(qu_col_tab)\n",
    "columns = cursor.fetchall()\n",
    "print(f\"\\nStructure of {table_name} table:\")\n",
    "for column in columns:\n",
    "    print(column)\n",
    "\n",
    "\n"
   ]
  },
  {
   "cell_type": "markdown",
   "id": "7d7d2a81",
   "metadata": {},
   "source": [
    "# Create order items table"
   ]
  },
  {
   "cell_type": "code",
   "execution_count": 35,
   "id": "4992ed0a",
   "metadata": {},
   "outputs": [
    {
     "name": "stdout",
     "output_type": "stream",
     "text": [
      "Table named order_items, created successfully in online_shop \n",
      "\n",
      "Tables in online_shop:\n",
      "\n",
      "categories\n",
      "order_items\n",
      "orders\n",
      "products\n",
      "users\n",
      "\n",
      "Structure of order_items table:\n",
      "('id', 'int', 'NO', 'PRI', None, 'auto_increment')\n",
      "('order_id', 'int', 'YES', 'MUL', None, '')\n",
      "('product_id', 'int', 'YES', 'MUL', None, '')\n",
      "('quantity', 'int', 'YES', '', None, '')\n",
      "('price_each', 'decimal(10,2)', 'YES', '', None, '')\n"
     ]
    }
   ],
   "source": [
    "# Create order items table\n",
    "\n",
    "db_name = 'online_shop'\n",
    "table_name = 'order_items'\n",
    "columns = \"\"\"\n",
    "            (id int primary key auto_increment,\n",
    "            order_id int,\n",
    "            product_id int,\n",
    "            quantity int,\n",
    "            price_each decimal(10,2),\n",
    "            foreign key (order_id) references orders(id),\n",
    "            foreign key (product_id) references products(id));\n",
    "\n",
    "\"\"\"\n",
    "qu_tab = f\"\"\"\n",
    "            CREATE TABLE IF NOT EXISTS {table_name} {columns}\n",
    "\"\"\"\n",
    "cux(qu_tab)\n",
    "print(f\"Table named {table_name}, created successfully in {db_name} \\n\")\n",
    "\n",
    "\n",
    "# Send a query for showing dtables\n",
    "qu_sh_tab = \"\"\"\n",
    "SHOW TABLES\n",
    "\"\"\"\n",
    "cux(qu_sh_tab)\n",
    "tables = cursor.fetchall()\n",
    "print(f\"Tables in {db_name}:\\n\")\n",
    "for table in tables:\n",
    "    print (table[0])\n",
    "\n",
    "\n",
    "\n",
    "qu_col_tab = f\"\"\"\n",
    "                DESCRIBE {table_name}\n",
    "\"\"\"\n",
    "cux(qu_col_tab)\n",
    "columns = cursor.fetchall()\n",
    "print(f\"\\nStructure of {table_name} table:\")\n",
    "for column in columns:\n",
    "    print(column)"
   ]
  },
  {
   "cell_type": "markdown",
   "id": "1f392898",
   "metadata": {},
   "source": [
    "# Create payments table"
   ]
  },
  {
   "cell_type": "code",
   "execution_count": 36,
   "id": "8c28487b",
   "metadata": {},
   "outputs": [
    {
     "name": "stdout",
     "output_type": "stream",
     "text": [
      "Table named payments, created successfully in online_shop \n",
      "\n",
      "Tables in online_shop:\n",
      "\n",
      "categories\n",
      "order_items\n",
      "orders\n",
      "payments\n",
      "products\n",
      "users\n",
      "\n",
      "Structure of payments table:\n",
      "('id', 'int', 'NO', 'PRI', None, 'auto_increment')\n",
      "('order_id', 'int', 'YES', 'MUL', None, '')\n",
      "('payment_date', 'datetime', 'YES', '', None, '')\n",
      "('amount', 'decimal(10,2)', 'YES', '', None, '')\n",
      "('method', \"enum('credit_card','paypal','cash')\", 'YES', '', None, '')\n",
      "('status', \"enum('paid','unpaid')\", 'YES', '', None, '')\n"
     ]
    }
   ],
   "source": [
    "# Create payments table\n",
    "db_name = 'online_shop'\n",
    "table_name = 'payments'\n",
    "columns = \"\"\"\n",
    "            (id int primary key auto_increment,\n",
    "            order_id int,\n",
    "            payment_date datetime,\n",
    "            amount decimal(10,2),\n",
    "            method enum(\"credit_card\", \"paypal\", \"cash\"),\n",
    "            status enum(\"paid\",\"unpaid\"),\n",
    "            foreign key (order_id) references orders(id));\n",
    "\n",
    "\"\"\"\n",
    "qu_tab = f\"\"\"\n",
    "            CREATE TABLE IF NOT EXISTS {table_name} {columns}\n",
    "\"\"\"\n",
    "cux(qu_tab)\n",
    "print(f\"Table named {table_name}, created successfully in {db_name} \\n\")\n",
    "\n",
    "\n",
    "# Send a query for showing dtables\n",
    "qu_sh_tab = \"\"\"\n",
    "SHOW TABLES\n",
    "\"\"\"\n",
    "cux(qu_sh_tab)\n",
    "tables = cursor.fetchall()\n",
    "print(f\"Tables in {db_name}:\\n\")\n",
    "for table in tables:\n",
    "    print (table[0])\n",
    "\n",
    "\n",
    "\n",
    "qu_col_tab = f\"\"\"\n",
    "                DESCRIBE {table_name}\n",
    "\"\"\"\n",
    "cux(qu_col_tab)\n",
    "columns = cursor.fetchall()\n",
    "print(f\"\\nStructure of {table_name} table:\")\n",
    "for column in columns:\n",
    "    print(column)"
   ]
  },
  {
   "cell_type": "code",
   "execution_count": 37,
   "id": "69a13819",
   "metadata": {},
   "outputs": [
    {
     "name": "stdout",
     "output_type": "stream",
     "text": [
      "Tables in database: ['categories', 'order_items', 'orders', 'payments', 'products', 'users'] \n",
      "\n"
     ]
    },
    {
     "data": {
      "text/html": [
       "<div>\n",
       "<style scoped>\n",
       "    .dataframe tbody tr th:only-of-type {\n",
       "        vertical-align: middle;\n",
       "    }\n",
       "\n",
       "    .dataframe tbody tr th {\n",
       "        vertical-align: top;\n",
       "    }\n",
       "\n",
       "    .dataframe thead th {\n",
       "        text-align: right;\n",
       "    }\n",
       "</style>\n",
       "<table border=\"1\" class=\"dataframe\">\n",
       "  <thead>\n",
       "    <tr style=\"text-align: right;\">\n",
       "      <th></th>\n",
       "      <th>Table</th>\n",
       "      <th>Column</th>\n",
       "      <th>References Table</th>\n",
       "      <th>References Column</th>\n",
       "    </tr>\n",
       "  </thead>\n",
       "  <tbody>\n",
       "    <tr>\n",
       "      <th>0</th>\n",
       "      <td>order_items</td>\n",
       "      <td>order_id</td>\n",
       "      <td>orders</td>\n",
       "      <td>id</td>\n",
       "    </tr>\n",
       "    <tr>\n",
       "      <th>1</th>\n",
       "      <td>order_items</td>\n",
       "      <td>product_id</td>\n",
       "      <td>products</td>\n",
       "      <td>id</td>\n",
       "    </tr>\n",
       "    <tr>\n",
       "      <th>2</th>\n",
       "      <td>orders</td>\n",
       "      <td>user_id</td>\n",
       "      <td>users</td>\n",
       "      <td>id</td>\n",
       "    </tr>\n",
       "    <tr>\n",
       "      <th>3</th>\n",
       "      <td>payments</td>\n",
       "      <td>order_id</td>\n",
       "      <td>orders</td>\n",
       "      <td>id</td>\n",
       "    </tr>\n",
       "    <tr>\n",
       "      <th>4</th>\n",
       "      <td>products</td>\n",
       "      <td>category_id</td>\n",
       "      <td>categories</td>\n",
       "      <td>id</td>\n",
       "    </tr>\n",
       "  </tbody>\n",
       "</table>\n",
       "</div>"
      ],
      "text/plain": [
       "         Table       Column References Table References Column\n",
       "0  order_items     order_id           orders                id\n",
       "1  order_items   product_id         products                id\n",
       "2       orders      user_id            users                id\n",
       "3     payments     order_id           orders                id\n",
       "4     products  category_id       categories                id"
      ]
     },
     "execution_count": 37,
     "metadata": {},
     "output_type": "execute_result"
    }
   ],
   "source": [
    "import pandas as pd\n",
    "\n",
    "db_name = 'online_shop'\n",
    "\n",
    "qu_sh_tab = \"\"\"\n",
    "SHOW TABLES\n",
    "\"\"\"\n",
    "cux(qu_sh_tab)\n",
    "\n",
    "tables = [t[0] for t in cursor.fetchall()]\n",
    "print(\"Tables in database:\", tables,'\\n')\n",
    "\n",
    "\n",
    "\n",
    "# 2. Get foreign keys and relations\n",
    "qu_fr_key = f\"\"\"\n",
    "SELECT\n",
    "    table_name,\n",
    "    column_name,\n",
    "    referenced_table_name,\n",
    "    referenced_column_name\n",
    "FROM\n",
    "    information_schema.KEY_COLUMN_USAGE\n",
    "WHERE\n",
    "    referenced_table_name IS NOT NULL\n",
    "    AND table_schema = '{db_name}';\n",
    "\"\"\"\n",
    "cux(qu_fr_key)\n",
    "\n",
    "# Put results into a pandas DataFrame for visualization\n",
    "relations = pd.DataFrame(cursor.fetchall(), columns=[\n",
    "    \"Table\", \"Column\", \"References Table\", \"References Column\"\n",
    "])\n",
    "relations"
   ]
  },
  {
   "cell_type": "code",
   "execution_count": null,
   "id": "0bbaf481",
   "metadata": {},
   "outputs": [
    {
     "data": {
      "image/png": "[encoded data removed]",
      "text/plain": [
       "<Figure size 800x600 with 1 Axes>"
      ]
     },
     "metadata": {},
     "output_type": "display_data"
    }
   ],
   "source": [
    "import networkx as nx\n",
    "import matplotlib.pyplot as plt\n",
    "\n",
    "# Create graph\n",
    "G = nx.DiGraph()\n",
    "\n",
    "# Add edges from relations DataFrame\n",
    "for _, row in relations.iterrows():\n",
    "    G.add_edge(row[\"Table\"], row[\"References Table\"], label=row[\"Column\"])\n",
    "\n",
    "# Draw\n",
    "plt.figure(figsize=(8,6))\n",
    "pos = nx.spring_layout(G)\n",
    "nx.draw(G, pos, with_labels=True, node_size=3000, node_color=\"lightblue\", font_size=10, font_weight=\"bold\", arrows=True)\n",
    "edge_labels = nx.get_edge_attributes(G, 'label')\n",
    "nx.draw_networkx_edge_labels(G, pos, edge_labels=edge_labels)\n",
    "plt.show()\n"
   ]
  },
  {
   "cell_type": "code",
   "execution_count": 144,
   "id": "9b2d9a96",
   "metadata": {},
   "outputs": [
    {
     "name": "stdout",
     "output_type": "stream",
     "text": [
      "Tables in database: ['categories', 'order_items', 'orders', 'payments', 'products', 'users'] \n",
      "\n",
      "categories  :\n",
      "\n",
      "Structure of categories table:\n",
      "('id', 'int', 'NO', 'PRI', None, 'auto_increment')\n",
      "('category_name', 'varchar(50)', 'YES', '', None, '')\n",
      "######################################################################\n",
      "order_items  :\n",
      "\n",
      "Structure of order_items table:\n",
      "('id', 'int', 'NO', 'PRI', None, 'auto_increment')\n",
      "('order_id', 'int', 'YES', 'MUL', None, '')\n",
      "('product_id', 'int', 'YES', 'MUL', None, '')\n",
      "('quantity', 'int', 'YES', '', None, '')\n",
      "('price_each', 'decimal(10,2)', 'YES', '', None, '')\n",
      "######################################################################\n",
      "orders  :\n",
      "\n",
      "Structure of orders table:\n",
      "('id', 'int', 'NO', 'PRI', None, 'auto_increment')\n",
      "('user_id', 'int', 'YES', 'MUL', None, '')\n",
      "('order_date', 'datetime', 'YES', '', None, '')\n",
      "('status', \"enum('pending','shipped','delivered','cancelled')\", 'YES', '', None, '')\n",
      "######################################################################\n",
      "payments  :\n",
      "\n",
      "Structure of payments table:\n",
      "('id', 'int', 'NO', 'PRI', None, 'auto_increment')\n",
      "('order_id', 'int', 'YES', 'MUL', None, '')\n",
      "('payement_date', 'datetime', 'YES', '', None, '')\n",
      "('amount', 'decimal(10,2)', 'YES', '', None, '')\n",
      "('method', \"enum('credit_card','paypal','cash')\", 'YES', '', None, '')\n",
      "('status', \"enum('paid','unpaid')\", 'YES', '', None, '')\n",
      "######################################################################\n",
      "products  :\n",
      "\n",
      "Structure of products table:\n",
      "('id', 'int', 'NO', 'PRI', None, 'auto_increment')\n",
      "('product_name', 'varchar(50)', 'YES', '', None, '')\n",
      "('price', 'decimal(10,2)', 'YES', '', None, '')\n",
      "('stock', 'int', 'YES', '', None, '')\n",
      "('category_id', 'int', 'YES', 'MUL', None, '')\n",
      "######################################################################\n",
      "users  :\n",
      "\n",
      "Structure of users table:\n",
      "('id', 'int', 'NO', 'PRI', None, 'auto_increment')\n",
      "('username', 'varchar(50)', 'YES', 'UNI', None, '')\n",
      "('email', 'varchar(100)', 'YES', '', None, '')\n",
      "('registration_date', 'date', 'YES', '', None, '')\n",
      "######################################################################\n"
     ]
    }
   ],
   "source": [
    "# 1. Get all tables\n",
    "cursor.execute(\"SHOW TABLES;\")\n",
    "tables = [t[0] for t in cursor.fetchall()]\n",
    "print(\"Tables in database:\", tables,'\\n')\n",
    "for table in tables:\n",
    "    print(table, ' :')\n",
    "    table_des = f'DESCRIBE {table}'\n",
    "    cursor.execute(table_des)\n",
    "    columns = cursor.fetchall()\n",
    "    \n",
    "    print(f\"\\nStructure of {table} table:\")\n",
    "    for column in columns:\n",
    "        print(column)\n",
    "        \n",
    "    print(\"#\"*70)"
   ]
  },
  {
   "cell_type": "code",
   "execution_count": 121,
   "id": "6ccd4ad9",
   "metadata": {},
   "outputs": [
    {
     "name": "stdout",
     "output_type": "stream",
     "text": [
      "(1, 'ali123', 'ali@example.com', datetime.date(2023, 1, 10))\n",
      "(2, 'sara_k', 'sara@example.com', datetime.date(2023, 3, 15))\n"
     ]
    }
   ],
   "source": [
    "cursor.execute(\"SELECT * FROM users\")\n",
    "rows = cursor.fetchall()\n",
    "for row in rows:\n",
    "    print(row)"
   ]
  },
  {
   "cell_type": "markdown",
   "id": "2ed01402",
   "metadata": {},
   "source": [
    "# Insert data into categories table"
   ]
  },
  {
   "cell_type": "code",
   "execution_count": 38,
   "id": "3def04da",
   "metadata": {},
   "outputs": [
    {
     "name": "stdout",
     "output_type": "stream",
     "text": [
      "CSV file 'categories.csv' created!\n"
     ]
    },
    {
     "data": {
      "text/html": [
       "<div>\n",
       "<style scoped>\n",
       "    .dataframe tbody tr th:only-of-type {\n",
       "        vertical-align: middle;\n",
       "    }\n",
       "\n",
       "    .dataframe tbody tr th {\n",
       "        vertical-align: top;\n",
       "    }\n",
       "\n",
       "    .dataframe thead th {\n",
       "        text-align: right;\n",
       "    }\n",
       "</style>\n",
       "<table border=\"1\" class=\"dataframe\">\n",
       "  <thead>\n",
       "    <tr style=\"text-align: right;\">\n",
       "      <th></th>\n",
       "      <th>category_name</th>\n",
       "    </tr>\n",
       "  </thead>\n",
       "  <tbody>\n",
       "    <tr>\n",
       "      <th>0</th>\n",
       "      <td>Electronics</td>\n",
       "    </tr>\n",
       "    <tr>\n",
       "      <th>1</th>\n",
       "      <td>Books</td>\n",
       "    </tr>\n",
       "    <tr>\n",
       "      <th>2</th>\n",
       "      <td>Clothing</td>\n",
       "    </tr>\n",
       "  </tbody>\n",
       "</table>\n",
       "</div>"
      ],
      "text/plain": [
       "  category_name\n",
       "0   Electronics\n",
       "1         Books\n",
       "2      Clothing"
      ]
     },
     "execution_count": 38,
     "metadata": {},
     "output_type": "execute_result"
    }
   ],
   "source": [
    "import pandas as pd\n",
    "\n",
    "# Create a DataFrame with category names\n",
    "df_categories = pd.DataFrame({\n",
    "    \"category_name\": [\"Electronics\", \"Books\", \"Clothing\"]\n",
    "})\n",
    "\n",
    "# Save to CSV\n",
    "df_categories.to_csv(\"categories.csv\", index=False)\n",
    "print(\"CSV file 'categories.csv' created!\")\n",
    "df_categories"
   ]
  },
  {
   "cell_type": "code",
   "execution_count": 39,
   "id": "dbecc8c4",
   "metadata": {},
   "outputs": [
    {
     "name": "stdout",
     "output_type": "stream",
     "text": [
      "[('Electronics',), ('Books',), ('Clothing',)]\n",
      "3 rows inserted into category table.\n",
      "(1, 'Electronics')\n",
      "(2, 'Books')\n",
      "(3, 'Clothing')\n"
     ]
    }
   ],
   "source": [
    "# Read CSV\n",
    "df = pd.read_csv(\"categories.csv\")\n",
    "table_name = 'categories'\n",
    "# Prepare insert query\n",
    "query_categories = f\"\"\"\n",
    "INSERT INTO {table_name} (category_name)\n",
    "VALUES (%s)\n",
    "\"\"\"\n",
    "\n",
    "# Convert DataFrame to list of tuples\n",
    "value_categories = [(x,) for x in df['category_name']]\n",
    "print(value_categories)\n",
    "\n",
    "# Execute many rows at once\n",
    "cuxm(query_categories, value_categories)\n",
    "db.commit()\n",
    "\n",
    "print(cursor.rowcount, \"rows inserted into category table.\")\n",
    "\n",
    "# Verify\n",
    "cux(f\"SELECT * FROM {table_name} \")\n",
    "rows = cursor.fetchall()\n",
    "for row in rows:\n",
    "    print(row)"
   ]
  },
  {
   "cell_type": "markdown",
   "id": "b94451c6",
   "metadata": {},
   "source": [
    "# Insert data into products table"
   ]
  },
  {
   "cell_type": "code",
   "execution_count": 40,
   "id": "1648059e",
   "metadata": {},
   "outputs": [
    {
     "name": "stdout",
     "output_type": "stream",
     "text": [
      "CSV file 'products.csv' created!\n"
     ]
    },
    {
     "data": {
      "text/html": [
       "<div>\n",
       "<style scoped>\n",
       "    .dataframe tbody tr th:only-of-type {\n",
       "        vertical-align: middle;\n",
       "    }\n",
       "\n",
       "    .dataframe tbody tr th {\n",
       "        vertical-align: top;\n",
       "    }\n",
       "\n",
       "    .dataframe thead th {\n",
       "        text-align: right;\n",
       "    }\n",
       "</style>\n",
       "<table border=\"1\" class=\"dataframe\">\n",
       "  <thead>\n",
       "    <tr style=\"text-align: right;\">\n",
       "      <th></th>\n",
       "      <th>product_name</th>\n",
       "      <th>price</th>\n",
       "      <th>stock</th>\n",
       "      <th>category_id</th>\n",
       "    </tr>\n",
       "  </thead>\n",
       "  <tbody>\n",
       "    <tr>\n",
       "      <th>0</th>\n",
       "      <td>Laptop HP</td>\n",
       "      <td>800.0</td>\n",
       "      <td>10</td>\n",
       "      <td>1</td>\n",
       "    </tr>\n",
       "    <tr>\n",
       "      <th>1</th>\n",
       "      <td>The Great Gatsby</td>\n",
       "      <td>15.0</td>\n",
       "      <td>50</td>\n",
       "      <td>2</td>\n",
       "    </tr>\n",
       "    <tr>\n",
       "      <th>2</th>\n",
       "      <td>T-Shirt Black</td>\n",
       "      <td>10.0</td>\n",
       "      <td>100</td>\n",
       "      <td>3</td>\n",
       "    </tr>\n",
       "  </tbody>\n",
       "</table>\n",
       "</div>"
      ],
      "text/plain": [
       "       product_name  price  stock  category_id\n",
       "0         Laptop HP  800.0     10            1\n",
       "1  The Great Gatsby   15.0     50            2\n",
       "2     T-Shirt Black   10.0    100            3"
      ]
     },
     "execution_count": 40,
     "metadata": {},
     "output_type": "execute_result"
    }
   ],
   "source": [
    "import pandas as pd\n",
    "products = {\n",
    "    \"product_name\": [\"Laptop HP\", \"The Great Gatsby\", \"T-Shirt Black\"],\n",
    "    \"price\": [800.00, 15.00, 10.00],\n",
    "    \"stock\": [10, 50, 100],\n",
    "    \"category_id\": [1, 2, 3]\n",
    "}\n",
    "# Create a DataFrame with your product data\n",
    "df_products = pd.DataFrame(products)\n",
    "\n",
    "# Save it as CSV\n",
    "df_products.to_csv(\"products.csv\", index=False)\n",
    "print(\"CSV file 'products.csv' created!\")\n",
    "df_products\n"
   ]
  },
  {
   "cell_type": "code",
   "execution_count": 41,
   "id": "a327960a",
   "metadata": {},
   "outputs": [
    {
     "name": "stdout",
     "output_type": "stream",
     "text": [
      "3 rows inserted.\n",
      "\n",
      "(1, 'Laptop HP', Decimal('800.00'), 10, 1)\n",
      "(2, 'The Great Gatsby', Decimal('15.00'), 50, 2)\n",
      "(3, 'T-Shirt Black', Decimal('10.00'), 100, 3)\n"
     ]
    }
   ],
   "source": [
    "# Read CSV\n",
    "df = pd.read_csv(\"products.csv\")\n",
    "# Convert DataFrame to list of tuples\n",
    "product_values = [tuple(x) for x in df.to_numpy()]\n",
    "\n",
    "\n",
    "table_name = 'products'\n",
    "\n",
    "# Data insert to columns\n",
    "data_columns = \"\"\"\n",
    "                    (product_name, price, stock, category_id)\n",
    "\"\"\"\n",
    "\n",
    "# SQL query with placeholders (%s)\n",
    "query_products = f\"\"\"\n",
    "INSERT INTO {table_name} {data_columns}\n",
    "VALUES (%s, %s, %s, %s)\n",
    "\"\"\"\n",
    "\n",
    "# Execute many rows at once\n",
    "cuxm(query_products, product_values)\n",
    "\n",
    "db.commit()\n",
    "\n",
    "print(cursor.rowcount, \"rows inserted.\\n\")\n",
    "\n",
    "# Verify\n",
    "cux(f\"SELECT * FROM {table_name} \")\n",
    "rows = cursor.fetchall()\n",
    "for row in rows:\n",
    "    print(row)"
   ]
  },
  {
   "cell_type": "markdown",
   "id": "8f1028a5",
   "metadata": {},
   "source": [
    "# Insert data into orders table"
   ]
  },
  {
   "cell_type": "code",
   "execution_count": 42,
   "id": "ec1f48fe",
   "metadata": {},
   "outputs": [
    {
     "name": "stdout",
     "output_type": "stream",
     "text": [
      "2 rows inserted.\n",
      "(1, 1, datetime.datetime(2025, 8, 29, 21, 45, 6), 'pending')\n",
      "(2, 2, datetime.datetime(2025, 8, 29, 21, 45, 6), 'pending')\n"
     ]
    }
   ],
   "source": [
    "from datetime import datetime \n",
    "\n",
    "table_name = 'orders'\n",
    "\n",
    "# SQL query with placeholders (%s)\n",
    "query_orders = f\"\"\"\n",
    "INSERT INTO {table_name} (user_id, order_date, status)\n",
    "VALUES (%s,%s,%s)\n",
    "\"\"\"\n",
    "# Data to insert (list of tuples)\n",
    "\n",
    "\n",
    "value_orders =[\n",
    "    (1, datetime.now(), 'pending'),\n",
    "    (2, datetime.now(), 'pending')\n",
    "    ]\n",
    "# Execute many rows at once\n",
    "cuxm(query_orders , value_orders)\n",
    "\n",
    "# Commit changes\n",
    "db.commit()\n",
    "\n",
    "print(cursor.rowcount, \"rows inserted.\")\n",
    "\n",
    "\n",
    "\n",
    "# Verify\n",
    "cux(f\"SELECT * FROM {table_name} \")\n",
    "rows = cursor.fetchall()\n",
    "for row in rows:\n",
    "    print(row)"
   ]
  },
  {
   "cell_type": "markdown",
   "id": "a1f5a425",
   "metadata": {},
   "source": [
    "# Insert data into order_items table"
   ]
  },
  {
   "cell_type": "code",
   "execution_count": 43,
   "id": "a0594a10",
   "metadata": {},
   "outputs": [
    {
     "name": "stdout",
     "output_type": "stream",
     "text": [
      "3 rows inserted.\n",
      "(1, 1, 1, 1, Decimal('800.00'))\n",
      "(2, 1, 2, 2, Decimal('15.00'))\n",
      "(3, 2, 3, 3, Decimal('10.00'))\n"
     ]
    }
   ],
   "source": [
    "table_name = 'order_items'\n",
    "\n",
    "# Data insert to columns\n",
    "data_columns = \"(order_id, product_id, quantity, price_each)\"\n",
    "\n",
    "# SQL query with placeholders (%s)\n",
    "query_order_items = f\"\"\"\n",
    "INSERT INTO {table_name} {data_columns}\n",
    "VALUES (%s,%s,%s,%s)\n",
    "\"\"\"\n",
    "\n",
    "# ✅ Data to insert (list of tuples)\n",
    "value_order_items = [\n",
    "    (1, 1, 1, 800.00),\n",
    "    (1, 2, 2, 15.00),\n",
    "    (2, 3, 3, 10.00)\n",
    "]\n",
    "\n",
    "# Execute many rows at once\n",
    "cuxm(query_order_items, value_order_items)\n",
    "\n",
    "# Commit changes\n",
    "db.commit()\n",
    "\n",
    "print(cursor.rowcount, \"rows inserted.\")\n",
    "\n",
    "# Verify\n",
    "cursor.execute(\"SELECT * FROM order_items\")\n",
    "rows = cursor.fetchall()\n",
    "for row in rows:\n",
    "    print(row)\n"
   ]
  },
  {
   "cell_type": "markdown",
   "id": "8152f82e",
   "metadata": {},
   "source": [
    "# Insert data into payments table"
   ]
  },
  {
   "cell_type": "code",
   "execution_count": 44,
   "id": "919ce8cd",
   "metadata": {},
   "outputs": [
    {
     "name": "stdout",
     "output_type": "stream",
     "text": [
      "2 rows inserted.\n",
      "(1, 1, datetime.datetime(2025, 8, 29, 21, 45, 10), Decimal('830.00'), 'credit_card', 'paid')\n",
      "(2, 2, datetime.datetime(2025, 8, 29, 21, 45, 10), Decimal('30.00'), 'cash', 'paid')\n"
     ]
    }
   ],
   "source": [
    "\n",
    "# SQL query with placeholders (%s)\n",
    "query_payments = \"\"\"\n",
    "INSERT INTO payments (order_id, payment_date, amount, method, status)\n",
    "VALUES (%s,%s,%s,%s,%s)\n",
    "\"\"\"\n",
    "# Data to insert (list of tuples)\n",
    "\n",
    "from datetime import datetime \n",
    "value_payments =[\n",
    "    (1, datetime.now(), 830.00, 'credit_card', 'paid'),\n",
    "    (2, datetime.now(), 30.00, 'cash', 'paid')\n",
    "    ]\n",
    "# Execute many rows at once\n",
    "cursor.executemany(query_payments , value_payments)\n",
    "\n",
    "# Commit changes\n",
    "db.commit()\n",
    "\n",
    "print(cursor.rowcount, \"rows inserted.\")\n",
    "\n",
    "cursor.execute(\"SELECT * FROM payments\")\n",
    "rows = cursor.fetchall()\n",
    "for row in rows:\n",
    "    print(row)\n"
   ]
  },
  {
   "cell_type": "code",
   "execution_count": 46,
   "id": "17deb40d",
   "metadata": {},
   "outputs": [
    {
     "name": "stdout",
     "output_type": "stream",
     "text": [
      "Connected to mysql server\n"
     ]
    }
   ],
   "source": [
    "from mysql.connector  import connect\n",
    "db = connect(\n",
    "    host='localhost',\n",
    "    user='hamed',\n",
    "    password='NewPass123!',\n",
    "    database='online_shop')\n",
    "if db.is_connected():\n",
    "    print(\"Connected to mysql server\")"
   ]
  },
  {
   "cell_type": "markdown",
   "id": "0eb8b75e",
   "metadata": {},
   "source": [
    "# Report"
   ]
  },
  {
   "cell_type": "code",
   "execution_count": 47,
   "id": "cb47a359",
   "metadata": {},
   "outputs": [
    {
     "name": "stdout",
     "output_type": "stream",
     "text": [
      "Tables in database: ['categories', 'order_items', 'orders', 'payments', 'products', 'users'] \n",
      "\n",
      "categories  :\n",
      "\n",
      "Structure of categories table:\n",
      "('id', 'int', 'NO', 'PRI', None, 'auto_increment')\n",
      "('category_name', 'varchar(50)', 'YES', '', None, '')\n",
      "######################################################################\n",
      "order_items  :\n",
      "\n",
      "Structure of order_items table:\n",
      "('id', 'int', 'NO', 'PRI', None, 'auto_increment')\n",
      "('order_id', 'int', 'YES', 'MUL', None, '')\n",
      "('product_id', 'int', 'YES', 'MUL', None, '')\n",
      "('quantity', 'int', 'YES', '', None, '')\n",
      "('price_each', 'decimal(10,2)', 'YES', '', None, '')\n",
      "######################################################################\n",
      "orders  :\n",
      "\n",
      "Structure of orders table:\n",
      "('id', 'int', 'NO', 'PRI', None, 'auto_increment')\n",
      "('user_id', 'int', 'YES', 'MUL', None, '')\n",
      "('order_date', 'datetime', 'YES', '', None, '')\n",
      "('status', \"enum('pending','shipped','delivered','cancelled')\", 'YES', '', None, '')\n",
      "######################################################################\n",
      "payments  :\n",
      "\n",
      "Structure of payments table:\n",
      "('id', 'int', 'NO', 'PRI', None, 'auto_increment')\n",
      "('order_id', 'int', 'YES', 'MUL', None, '')\n",
      "('payment_date', 'datetime', 'YES', '', None, '')\n",
      "('amount', 'decimal(10,2)', 'YES', '', None, '')\n",
      "('method', \"enum('credit_card','paypal','cash')\", 'YES', '', None, '')\n",
      "('status', \"enum('paid','unpaid')\", 'YES', '', None, '')\n",
      "######################################################################\n",
      "products  :\n",
      "\n",
      "Structure of products table:\n",
      "('id', 'int', 'NO', 'PRI', None, 'auto_increment')\n",
      "('product_name', 'varchar(50)', 'YES', '', None, '')\n",
      "('price', 'decimal(10,2)', 'YES', '', None, '')\n",
      "('stock', 'int', 'YES', '', None, '')\n",
      "('category_id', 'int', 'YES', 'MUL', None, '')\n",
      "######################################################################\n",
      "users  :\n",
      "\n",
      "Structure of users table:\n",
      "('id', 'int', 'NO', 'PRI', None, 'auto_increment')\n",
      "('username', 'varchar(50)', 'YES', 'UNI', None, '')\n",
      "('email', 'varchar(100)', 'YES', '', None, '')\n",
      "('registration_date', 'date', 'YES', '', None, '')\n",
      "######################################################################\n"
     ]
    }
   ],
   "source": [
    "# 1. Get all tables\n",
    "cursor.execute(\"SHOW TABLES;\")\n",
    "tables = [t[0] for t in cursor.fetchall()]\n",
    "print(\"Tables in database:\", tables,'\\n')\n",
    "for table in tables:\n",
    "    print(table, ' :')\n",
    "    table_des = f'DESCRIBE {table}'\n",
    "    cursor.execute(table_des)\n",
    "    columns = cursor.fetchall()\n",
    "    \n",
    "    print(f\"\\nStructure of {table} table:\")\n",
    "    for column in columns:\n",
    "        print(column)\n",
    "        \n",
    "    print(\"#\"*70)"
   ]
  },
  {
   "cell_type": "code",
   "execution_count": 48,
   "id": "49b33228",
   "metadata": {},
   "outputs": [
    {
     "name": "stdout",
     "output_type": "stream",
     "text": [
      "(1, 'ali123', datetime.datetime(2025, 8, 29, 21, 45, 6), Decimal('830.00'))\n",
      "(2, 'sara_k', datetime.datetime(2025, 8, 29, 21, 45, 6), Decimal('30.00'))\n"
     ]
    },
    {
     "data": {
      "text/html": [
       "<div>\n",
       "<style scoped>\n",
       "    .dataframe tbody tr th:only-of-type {\n",
       "        vertical-align: middle;\n",
       "    }\n",
       "\n",
       "    .dataframe tbody tr th {\n",
       "        vertical-align: top;\n",
       "    }\n",
       "\n",
       "    .dataframe thead th {\n",
       "        text-align: right;\n",
       "    }\n",
       "</style>\n",
       "<table border=\"1\" class=\"dataframe\">\n",
       "  <thead>\n",
       "    <tr style=\"text-align: right;\">\n",
       "      <th></th>\n",
       "      <th>Order_ID</th>\n",
       "      <th>Username</th>\n",
       "      <th>Order_date</th>\n",
       "      <th>total_amount</th>\n",
       "    </tr>\n",
       "  </thead>\n",
       "  <tbody>\n",
       "    <tr>\n",
       "      <th>0</th>\n",
       "      <td>1</td>\n",
       "      <td>ali123</td>\n",
       "      <td>2025-08-29 21:45:06</td>\n",
       "      <td>830.00</td>\n",
       "    </tr>\n",
       "    <tr>\n",
       "      <th>1</th>\n",
       "      <td>2</td>\n",
       "      <td>sara_k</td>\n",
       "      <td>2025-08-29 21:45:06</td>\n",
       "      <td>30.00</td>\n",
       "    </tr>\n",
       "  </tbody>\n",
       "</table>\n",
       "</div>"
      ],
      "text/plain": [
       "   Order_ID Username          Order_date total_amount\n",
       "0         1   ali123 2025-08-29 21:45:06       830.00\n",
       "1         2   sara_k 2025-08-29 21:45:06        30.00"
      ]
     },
     "execution_count": 48,
     "metadata": {},
     "output_type": "execute_result"
    }
   ],
   "source": [
    "cursor = db.cursor()\n",
    "\n",
    "# Define a query  for all orders list with total amount\n",
    "query = \"\"\"\n",
    "SELECT o.id, u.username, order_date, SUM(oi.quantity * oi.price_each) AS total_amount\n",
    "FROM orders AS o\n",
    "JOIN users AS u ON o.user_id = u.id\n",
    "JOIN order_items AS oi ON o.id = oi.order_id\n",
    "GROUP BY o.id;\n",
    "\"\"\"\n",
    "\n",
    "# Execute the query\n",
    "cursor.execute(query)\n",
    "\n",
    "# Fetch all results\n",
    "results = cursor.fetchall()\n",
    "\n",
    "# Print results\n",
    "for row in results:\n",
    "    print(row)\n",
    "\n",
    "# Convert to pandas DataFrame\n",
    "df = pd.DataFrame(results, columns=['Order_ID', 'Username', 'Order_date', 'total_amount'])\n",
    "\n",
    "# Display the DataFrame\n",
    "df"
   ]
  },
  {
   "cell_type": "code",
   "execution_count": 49,
   "id": "deabcf93",
   "metadata": {},
   "outputs": [
    {
     "name": "stdout",
     "output_type": "stream",
     "text": [
      "('T-Shirt Black', Decimal('3'))\n",
      "('The Great Gatsby', Decimal('2'))\n",
      "('Laptop HP', Decimal('1'))\n"
     ]
    },
    {
     "data": {
      "text/html": [
       "<div>\n",
       "<style scoped>\n",
       "    .dataframe tbody tr th:only-of-type {\n",
       "        vertical-align: middle;\n",
       "    }\n",
       "\n",
       "    .dataframe tbody tr th {\n",
       "        vertical-align: top;\n",
       "    }\n",
       "\n",
       "    .dataframe thead th {\n",
       "        text-align: right;\n",
       "    }\n",
       "</style>\n",
       "<table border=\"1\" class=\"dataframe\">\n",
       "  <thead>\n",
       "    <tr style=\"text-align: right;\">\n",
       "      <th></th>\n",
       "      <th>Product Name</th>\n",
       "      <th>Total Sold</th>\n",
       "    </tr>\n",
       "  </thead>\n",
       "  <tbody>\n",
       "    <tr>\n",
       "      <th>0</th>\n",
       "      <td>T-Shirt Black</td>\n",
       "      <td>3</td>\n",
       "    </tr>\n",
       "    <tr>\n",
       "      <th>1</th>\n",
       "      <td>The Great Gatsby</td>\n",
       "      <td>2</td>\n",
       "    </tr>\n",
       "    <tr>\n",
       "      <th>2</th>\n",
       "      <td>Laptop HP</td>\n",
       "      <td>1</td>\n",
       "    </tr>\n",
       "  </tbody>\n",
       "</table>\n",
       "</div>"
      ],
      "text/plain": [
       "       Product Name Total Sold\n",
       "0     T-Shirt Black          3\n",
       "1  The Great Gatsby          2\n",
       "2         Laptop HP          1"
      ]
     },
     "execution_count": 49,
     "metadata": {},
     "output_type": "execute_result"
    }
   ],
   "source": [
    "import pandas as pd\n",
    "\n",
    "# Define a query  for selling report\n",
    "'''Tables name\n",
    "\n",
    "category\n",
    "order_items\n",
    "orders\n",
    "payments\n",
    "products\n",
    "users\n",
    "\n",
    "'''\n",
    "query = \"\"\"\n",
    "SELECT p.product_name, sum(oi.quantity) AS total_sold FROM order_items AS oi\n",
    "JOIN products AS p ON oi.product_id = p.id\n",
    "\n",
    "GROUP BY p.product_name\n",
    "order by total_sold desc;\n",
    "\"\"\"\n",
    "\n",
    "# Execute the query\n",
    "cursor.execute(query)\n",
    "\n",
    "# Fetch all results\n",
    "results = cursor.fetchall()\n",
    "\n",
    "# Print results\n",
    "for row in results:\n",
    "    print(row)\n",
    "\n",
    "# Convert to pandas DataFrame\n",
    "df = pd.DataFrame(results, columns=['Product Name', 'Total Sold'])\n",
    "\n",
    "# Display the DataFrame\n",
    "df"
   ]
  },
  {
   "cell_type": "code",
   "execution_count": 51,
   "id": "6f316151",
   "metadata": {},
   "outputs": [
    {
     "name": "stdout",
     "output_type": "stream",
     "text": [
      "('T-Shirt Black', 100, Decimal('3'))\n",
      "('The Great Gatsby', 50, Decimal('2'))\n",
      "('Laptop HP', 10, Decimal('1'))\n",
      "       Product Name  Stock Sold\n",
      "0     T-Shirt Black    100    3\n",
      "1  The Great Gatsby     50    2\n",
      "2         Laptop HP     10    1\n"
     ]
    }
   ],
   "source": [
    "# Best-selling products report\n",
    "import pandas as pd\n",
    "\n",
    "\n",
    "query = \"\"\"\n",
    "SELECT p.product_name, p.stock, sum(oi.quantity) AS sold FROM products AS p\n",
    "JOIN order_items AS oi ON p.id = oi.product_id\n",
    "\n",
    "GROUP BY p.product_name, p.stock\n",
    "order by sold desc;\n",
    "\"\"\"\n",
    "\n",
    "# Execute the query\n",
    "cursor.execute(query)\n",
    "\n",
    "# Fetch all results\n",
    "results = cursor.fetchall()\n",
    "\n",
    "# Print results\n",
    "for row in results:\n",
    "    print(row)\n",
    "\n",
    "# Convert to pandas DataFrame\n",
    "df = pd.DataFrame(results, columns=['Product Name', 'Stock','Sold'])\n",
    "\n",
    "# Display the DataFrame\n",
    "print(df)\n",
    "\n",
    "# Optionally, save to Excel or CSV\n",
    "#df.to_excel('selling_report.xlsx', index=False)\n",
    "#df.to_csv('selling_report.csv', index=False)    "
   ]
  },
  {
   "cell_type": "code",
   "execution_count": 52,
   "id": "fd463d20",
   "metadata": {},
   "outputs": [
    {
     "name": "stdout",
     "output_type": "stream",
     "text": [
      "('ali123', 1)\n",
      "('sara_k', 1)\n",
      "  UserName  Total Orders\n",
      "0   ali123             1\n",
      "1   sara_k             1\n"
     ]
    }
   ],
   "source": [
    "# BUsers with most orders report\n",
    "import pandas as pd\n",
    "\n",
    "\n",
    "query = \"\"\"\n",
    "SELECT  u.username, count(*) AS total_orders FROM orders AS o\n",
    "JOIN users AS u ON o.user_id = u.id\n",
    "\n",
    "GROUP BY u.id\n",
    "order by total_orders desc;\n",
    "\"\"\"\n",
    "\n",
    "# Execute the query\n",
    "cursor.execute(query)\n",
    "\n",
    "# Fetch all results\n",
    "results = cursor.fetchall()\n",
    "\n",
    "# Print results\n",
    "for row in results:\n",
    "    print(row)\n",
    "\n",
    "# Convert to pandas DataFrame\n",
    "df = pd.DataFrame(results, columns=['UserName', 'Total Orders'])\n",
    "\n",
    "# Display the DataFrame\n",
    "print(df)\n",
    "\n",
    "# Optionally, save to Excel or CSV\n",
    "#df.to_excel('selling_report.xlsx', index=False)\n",
    "#df.to_csv('selling_report.csv', index=False)    "
   ]
  },
  {
   "cell_type": "code",
   "execution_count": 53,
   "id": "7052cb20",
   "metadata": {},
   "outputs": [
    {
     "name": "stdout",
     "output_type": "stream",
     "text": [
      "MySQL connection closed\n"
     ]
    }
   ],
   "source": [
    "cursor.close()\n",
    "db.close()\n",
    "print(\"MySQL connection closed\")"
   ]
  },
  {
   "cell_type": "code",
   "execution_count": null,
   "id": "8a96008a",
   "metadata": {},
   "outputs": [],
   "source": []
  }
 ],
 "metadata": {
  "kernelspec": {
   "display_name": "onlineshop",
   "language": "python",
   "name": "python3"
  },
  "language_info": {
   "codemirror_mode": {
    "name": "ipython",
    "version": 3
   },
   "file_extension": ".py",
   "mimetype": "text/x-python",
   "name": "python",
   "nbconvert_exporter": "python",
   "pygments_lexer": "ipython3",
   "version": "3.12.3"
  }
 },
 "nbformat": 4,
 "nbformat_minor": 5
}
